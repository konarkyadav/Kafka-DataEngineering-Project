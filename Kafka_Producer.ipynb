{
 "cells": [
  {
   "cell_type": "code",
   "execution_count": null,
   "id": "568c589c",
   "metadata": {},
   "outputs": [],
   "source": [
    "# Import the pandas library as pd for data manipulation and analysis, particularly for working with tabular data and time series\n",
    "import pandas as pd\n",
    "\n",
    "# Import sleep from the time module to enable pausing the execution of the script for a specified amount of time\n",
    "from time import sleep\n",
    "\n",
    "# Import KafkaProducer from the kafka library to connect to Kafka and send messages to a Kafka topic\n",
    "from kafka import KafkaProducer\n",
    "\n",
    "# Import dumps from the json module to serialize Python objects into JSON formatted strings\n",
    "from json import dumps\n",
    "\n",
    "# Import the json module for working with JSON data, providing capabilities to encode and decode JSON\n",
    "import json"
   ]
  },
  {
   "cell_type": "code",
   "execution_count": null,
   "id": "6ed7651a",
   "metadata": {},
   "outputs": [],
   "source": [
    "# Initialize a KafkaProducer to send messages to a Kafka topic\n",
    "# The KafkaProducer connects to Kafka brokers using the specified EC2 instance public IP and port\n",
    "producer = KafkaProducer(\n",
    "    bootstrap_servers=['Put your EC2 instance public IP here:9092'],  # List of Kafka broker addresses where the producer will connect to send messages\n",
    "    value_serializer=lambda x: dumps(x).encode('utf-8')  # Serialize message values to JSON formatted strings and encode them in UTF-8 before sending\n",
    ")\n"
   ]
  },
  {
   "cell_type": "code",
   "execution_count": null,
   "id": "eca92e07",
   "metadata": {},
   "outputs": [],
   "source": [
    "\n",
    "# Load the dataset from a CSV file into a pandas DataFrame\n",
    "# The 'stock_data.csv' file is read, and its contents are converted into a DataFrame 'df'\n",
    "# This DataFrame 'df' will hold the stock market data for further processing and analysis\n",
    "df = pd.read_csv(\"stock_data.csv\")\n"
   ]
  },
  {
   "cell_type": "code",
   "execution_count": null,
   "id": "1e7f0e06",
   "metadata": {},
   "outputs": [],
   "source": [
    "df.head()"
   ]
  },
  {
   "cell_type": "code",
   "execution_count": null,
   "id": "730ffe73",
   "metadata": {},
   "outputs": [],
   "source": [
    "import time  # Ensure this import is at the top of your file\n",
    "\n",
    "# Assuming 'producer' is already defined and connected to Kafka\n",
    "# Assuming 'df' is your DataFrame containing stock data\n",
    "\n",
    "while True:\n",
    "    try:\n",
    "        # Sample a single record from the DataFrame and convert it to a dictionary\n",
    "        dict_stock = df.sample(1).to_dict(orient=\"records\")[0]\n",
    "        \n",
    "        # Send the dictionary as a message to the 'demo_test' topic in Kafka\n",
    "        producer.send('dict_mess', value=dict_stock)\n",
    "        \n",
    "        # Print the sent message for logging/debugging purposes (optional)\n",
    "        print(f\"Sent: {dict_stock}\")\n",
    "        \n",
    "        # Sleep for 2 seconds to rate limit the message sending\n",
    "        time.sleep(2)\n",
    "    except KeyboardInterrupt:\n",
    "        # Gracefully exit the loop if the script is stopped with Ctrl+C\n",
    "        print(\"Stopping the producer...\")\n",
    "        break\n",
    "    except Exception as e:\n",
    "        # Handle other exceptions to avoid crashing the script\n",
    "        print(f\"An error occurred: {e}\")\n",
    "        # Decide on whether to break or continue based on the error\n",
    "        break  # or 'continue' based on your requirement\n"
   ]
  },
  {
   "cell_type": "code",
   "execution_count": null,
   "id": "0a795069",
   "metadata": {},
   "outputs": [],
   "source": [
    "# Ensure all messages are sent and delivered by the KafkaProducer\n",
    "# The flush() method blocks until all pending messages in the buffer are successfully delivered to the Kafka broker\n",
    "producer.flush()"
   ]
  },
  {
   "cell_type": "code",
   "execution_count": null,
   "id": "ca8388cf",
   "metadata": {},
   "outputs": [],
   "source": []
  }
 ],
 "metadata": {
  "kernelspec": {
   "display_name": "Python 3 (ipykernel)",
   "language": "python",
   "name": "python3"
  },
  "language_info": {
   "codemirror_mode": {
    "name": "ipython",
    "version": 3
   },
   "file_extension": ".py",
   "mimetype": "text/x-python",
   "name": "python",
   "nbconvert_exporter": "python",
   "pygments_lexer": "ipython3",
   "version": "3.9.13"
  }
 },
 "nbformat": 4,
 "nbformat_minor": 5
}
