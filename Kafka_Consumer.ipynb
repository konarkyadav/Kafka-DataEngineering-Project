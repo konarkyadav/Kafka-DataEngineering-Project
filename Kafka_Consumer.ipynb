{
 "cells": [
  {
   "cell_type": "code",
   "execution_count": null,
   "id": "ac7446b5",
   "metadata": {},
   "outputs": [],
   "source": [
    "# Import KafkaConsumer from kafka library to connect and consume messages from Kafka topics\n",
    "from kafka import KafkaConsumer\n",
    "\n",
    "# Import sleep from time module to add delays in the script execution for timing control\n",
    "from time import sleep\n",
    "\n",
    "# Import dumps and loads from json module to serialize (convert Python object into JSON string) and deserialize (convert JSON string into Python object) data\n",
    "from json import dumps, loads\n",
    "\n",
    "# Import json module for JSON operations like parsing JSON data\n",
    "import json\n",
    "\n",
    "# Import S3FileSystem from s3fs to interact with Amazon S3 using file system semantics, allowing for easy manipulation of objects in S3 as if they were files\n",
    "from s3fs import S3FileSystem"
   ]
  },
  {
   "cell_type": "code",
   "execution_count": null,
   "id": "5d839766",
   "metadata": {},
   "outputs": [],
   "source": [
    "# Initialize a KafkaConsumer to consume messages from the 'demo_test' Kafka topic\n",
    "consumer = KafkaConsumer(\n",
    "    'konarkykafkatest',  # Specify the Kafka topic to consume messages from\n",
    "    bootstrap_servers=['Add your EC2 public IP here:9092'],  # List of broker addresses (here, your EC2 public IP and Kafka's default port)\n",
    "    value_deserializer=lambda x: loads(x.decode('utf-8'))  # Deserialize the message value from JSON formatted string to Python dictionary\n",
    ")"
   ]
  },
  {
   "cell_type": "code",
   "execution_count": null,
   "id": "ab28838a",
   "metadata": {},
   "outputs": [],
   "source": [
    "# Create an S3FileSystem instance to interact with Amazon S3\n",
    "# This allows for performing file operations on S3 buckets and objects using familiar filesystem semantics\n",
    "s3 = S3FileSystem()"
   ]
  },
  {
   "cell_type": "code",
   "execution_count": null,
   "id": "e60eabf0",
   "metadata": {},
   "outputs": [],
   "source": [
    "# Iterate over messages consumed from the Kafka topic using the consumer\n",
    "for count, ind in enumerate(consumer):\n",
    "    # For each message, open a new file in an Amazon S3 bucket using the s3fs library\n",
    "    # The file is named uniquely using the message count to avoid overwriting previous messages\n",
    "    with s3.open(\"s3://konarky_kafka_project/stock_market_{}.json\".format(count), 'w') as file:\n",
    "        # Serialize the message value (which is assumed to be a Python dictionary after deserialization) to JSON format\n",
    "        # and write it to the newly created file in the S3 bucket\n",
    "        json.dump(ind.value, file)"
   ]
  }
 ],
 "metadata": {
  "kernelspec": {
   "display_name": "Python 3 (ipykernel)",
   "language": "python",
   "name": "python3"
  },
  "language_info": {
   "codemirror_mode": {
    "name": "ipython",
    "version": 3
   },
   "file_extension": ".py",
   "mimetype": "text/x-python",
   "name": "python",
   "nbconvert_exporter": "python",
   "pygments_lexer": "ipython3",
   "version": "3.9.13"
  }
 },
 "nbformat": 4,
 "nbformat_minor": 5
}
